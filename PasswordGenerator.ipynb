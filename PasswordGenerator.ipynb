{
 "cells": [
  {
   "cell_type": "code",
   "execution_count": 2,
   "id": "2cc3e1c2-c729-4431-9f05-0defa415d3a6",
   "metadata": {},
   "outputs": [],
   "source": [
    "import random\n",
    "import string\n",
    "import tkinter as tk\n",
    "from tkinter import messagebox\n",
    "\n",
    "#definig the function to generate the password\n",
    "def generate_password():\n",
    "    try:\n",
    "        password_length = int(length_entry.get())\n",
    "\n",
    "        letters = string.ascii_letters  \n",
    "        digits = string.digits          \n",
    "        symbols = string.punctuation    \n",
    "\n",
    "        all_characters = letters + digits + symbols\n",
    "       \n",
    "        password = \"\"\n",
    "\n",
    "        # Generate the password\n",
    "        for i in range(password_length):\n",
    "            password += random.choice(all_characters)\n",
    "\n",
    "        # Show the generated password\n",
    "        result_label.config(text=f\"Your generated password is:\\n{password}\")\n",
    "    except ValueError:\n",
    "        messagebox.showerror(\"Invalid Input\", \"Please enter a valid number for password length.\")\n",
    "\n",
    "root = tk.Tk()\n",
    "root.title(\"Password Generator\")\n",
    "root.geometry(\"400x250\")\n",
    "root.resizable(False, False)\n",
    "\n",
    "# Heading\n",
    "heading = tk.Label(root, text=\"🔐 Random Password Generator\", font=(\"Helvetica\", 16, \"bold\"))\n",
    "heading.pack(pady=10)\n",
    "\n",
    "# Input for password length\n",
    "length_label = tk.Label(root, text=\"Enter password length:\")\n",
    "length_label.pack()\n",
    "\n",
    "length_entry = tk.Entry(root, width=10, justify=\"center\")\n",
    "length_entry.pack(pady=5)\n",
    "\n",
    "# Button to generate password\n",
    "generate_button = tk.Button(root, text=\"Generate Password\", command=generate_password)\n",
    "generate_button.pack(pady=10)\n",
    "\n",
    "# Result label\n",
    "result_label = tk.Label(root, text=\"\", font=(\"Helvetica\", 12), wraplength=350, justify=\"center\")\n",
    "result_label.pack(pady=10)\n",
    "\n",
    "root.mainloop()\n"
   ]
  },
  {
   "cell_type": "code",
   "execution_count": null,
   "id": "7e9111f5-e2e7-4ef1-af31-69f420e203ab",
   "metadata": {},
   "outputs": [],
   "source": []
  }
 ],
 "metadata": {
  "kernelspec": {
   "display_name": "Python [conda env:base] *",
   "language": "python",
   "name": "conda-base-py"
  },
  "language_info": {
   "codemirror_mode": {
    "name": "ipython",
    "version": 3
   },
   "file_extension": ".py",
   "mimetype": "text/x-python",
   "name": "python",
   "nbconvert_exporter": "python",
   "pygments_lexer": "ipython3",
   "version": "3.12.7"
  }
 },
 "nbformat": 4,
 "nbformat_minor": 5
}
