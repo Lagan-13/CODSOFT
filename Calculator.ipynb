from tkinter import *

# Create main window
window = Tk()
window.title("Simple Calculator")
window.geometry('400x350')  # More appropriate size

# Function to perform calculation
def calculate():
    try:
        number1 = float(num1.get())
        number2 = float(num2.get())
        operation = operation_var.get()

        if operation == "add":
            result = number1 + number2
        elif operation == "subtract":
            result = number1 - number2
        elif operation == "multiply":
            result = number1 * number2
        elif operation == "divide":
            if number2 == 0:
                result_label.config(text="Error: Cannot divide by zero.")
                return
            result = number1 / number2
        else:
            result_label.config(text="Select an operation.")
            return

        result_label.config(text=f"Result: {result}")
    except ValueError:
        result_label.config(text="Error: Enter valid numbers.")

# Labels and Entry Fields
Label(window, text="Enter Number 1:").grid(row=0, column=0, padx=10, pady=10, sticky="e")
num1 = Entry(window, width=20)
num1.grid(row=0, column=1, padx=10, pady=10)

Label(window, text="Enter Number 2:").grid(row=1, column=0, padx=10, pady=10, sticky="e")
num2 = Entry(window, width=20)
num2.grid(row=1, column=1, padx=10, pady=10)

# Operation selection
operation_var = StringVar(value="add")

Label(window, text="Choose Operation:").grid(row=2, column=0, pady=10, sticky="e")
Radiobutton(window, text="Add", variable=operation_var, value="add").grid(row=2, column=1, sticky="w")
Radiobutton(window, text="Subtract", variable=operation_var, value="subtract").grid(row=3, column=1, sticky="w")
Radiobutton(window, text="Multiply", variable=operation_var, value="multiply").grid(row=4, column=1, sticky="w")
Radiobutton(window, text="Divide", variable=operation_var, value="divide").grid(row=5, column=1, sticky="w")

# Calculate Button
Button(window, text="Calculate", command=calculate, width=20).grid(row=6, column=0, columnspan=2, pady=20)

# Result Display
result_label = Label(window, text="", font=('Arial', 12, 'bold'))
result_label.grid(row=7, column=0, columnspan=2, pady=10)

window.mainloop()
